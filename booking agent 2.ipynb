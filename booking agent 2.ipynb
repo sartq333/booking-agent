{
 "cells": [
  {
   "cell_type": "code",
   "execution_count": 17,
   "id": "bc86f556-f573-41cb-889e-0189178d450d",
   "metadata": {},
   "outputs": [],
   "source": [
    "# importing the libraries.\n",
    "import time\n",
    "import psutil\n",
    "from datetime import datetime, timedelta\n",
    "from typing import Any, List, Union\n",
    "import sqlite3\n",
    "\n",
    "from langchain_core.messages import HumanMessage, AIMessage\n",
    "from langchain_core.tools import tool\n",
    "from langchain.agents import create_tool_calling_agent\n",
    "from langchain.agents.agent import AgentExecutor\n",
    "from langchain_core.agents import AgentActionMessageLog\n",
    "from langchain_ollama import ChatOllama\n",
    "from langchain_core.prompts import ChatPromptTemplate, MessagesPlaceholder"
   ]
  },
  {
   "cell_type": "code",
   "execution_count": 18,
   "id": "f3f63139-fb7f-48ed-bfc3-5642341088bb",
   "metadata": {},
   "outputs": [
    {
     "name": "stdout",
     "output_type": "stream",
     "text": [
      "Ollama is running fine: True\n"
     ]
    }
   ],
   "source": [
    "# checker function if ollama is running fine or not.\n",
    "def check_ollama(process_name):\n",
    "    running = False\n",
    "    for proc in psutil.process_iter([\"name\"]):\n",
    "        if process_name in proc.info[\"name\"]:\n",
    "            running = True\n",
    "            break\n",
    "    return running\n",
    "\n",
    "ollama_running = check_ollama(\"ollama\")\n",
    "\n",
    "if not ollama_running:\n",
    "    raise RuntimeError(\"Ollama not running.\")\n",
    "\n",
    "print(f\"Ollama is running fine: {ollama_running}\")"
   ]
  },
  {
   "cell_type": "code",
   "execution_count": 19,
   "id": "0ec048cb-cd1c-4816-ac13-73f1ed5d59e6",
   "metadata": {},
   "outputs": [],
   "source": [
    "# defining the LLM which will be used for our use-case.\n",
    "def create_llm():\n",
    "  tool_llm = ChatOllama(\n",
    "          model=\"llama3-groq-tool-use\",\n",
    "          temperature=0,\n",
    "  )\n",
    "  return tool_llm"
   ]
  },
  {
   "cell_type": "code",
   "execution_count": 20,
   "id": "cfdd7034-20ef-4567-9eb9-efa420c9fbb4",
   "metadata": {},
   "outputs": [],
   "source": [
    "# dummy function to check if payment was successful\n",
    "def payment_done():\n",
    "    return True\n",
    "\n",
    "def get_available_room(room_type):\n",
    "    room_type = room_type.lower()\n",
    "    conn = sqlite3.connect(\"hotel.db\")\n",
    "    cursor = conn.cursor()\n",
    "    cursor.execute(\"SELECT * FROM rooms WHERE room_type = ? AND availability = 1 LIMIT 1\", (room_type,))\n",
    "    room = cursor.fetchone()\n",
    "    room_no = room[0]\n",
    "    cursor.execute(\"UPDATE rooms SET availability = 0 WHERE room_no = ?\", (room_no,))\n",
    "    conn.commit()\n",
    "    return room_no\n",
    "    \n",
    "# function which will be called if tool calling happens.\n",
    "@tool\n",
    "def book_room(check_in_date, check_out_date, room_type)-> str:\n",
    "    \"\"\"Book a hotel's room on behalf of the user.\n",
    "       Args:\n",
    "           check_in_date (str): Check in date.\n",
    "           check_out_date (str): Check out date.\n",
    "           room_type (str): The type of room in which user wants to stay. \n",
    "       Returns:\n",
    "           str: A message indicating whether the room was successfully booked or not.\n",
    "    \"\"\"\n",
    "    room_type = room_type.lower()\n",
    "    if(payment_done()):\n",
    "        # update the DB that a room is booked and returns the room number.\n",
    "        room_no = get_available_room(room_type)\n",
    "        return f\"Your {room_type} room with room number {room_no} has been booked with check in date: {check_in_date} and check out date: {check_out_date}.\"\n",
    "    return \"Payment was not successful. Room wasn't booked.\""
   ]
  },
  {
   "cell_type": "code",
   "execution_count": 21,
   "id": "7a80d8e8-af2a-4412-903e-35088adc23cb",
   "metadata": {},
   "outputs": [],
   "source": [
    "def integration_with_tool():\n",
    "    tool_llm = create_llm()\n",
    "    tools = [book_room]\n",
    "    return tool_llm, tools"
   ]
  },
  {
   "cell_type": "code",
   "execution_count": 28,
   "id": "899a156a-4b53-4be1-b323-746e1c17a683",
   "metadata": {},
   "outputs": [],
   "source": [
    "def system_prompt():\n",
    "    current_date = datetime.now().strftime(\"%Y-%m-%d\")\n",
    "    prompt = ChatPromptTemplate.from_messages([\n",
    "        (\"system\", f\"\"\"You are an AI assistant for The Lalit Hotel. There are three types of rooms available there:\n",
    "        - classic (for a single person)\n",
    "        - deluxe (for 2 people) \n",
    "        - mega (for 3+ people)\n",
    "        \n",
    "        Your primary functions are:\n",
    "        1. Book rooms using the available booking tool\n",
    "        2. Answer general questions about the hotel\n",
    "        \n",
    "        When booking rooms:\n",
    "        **IMPORTANT: You MUST NEVER call the booking tool unless ALL THREE of the following pieces of information have been EXPLICITLY provided by the user:\n",
    "        1. Room type (must be one of: classic, deluxe, or mega)\n",
    "        2. Check-in date (must be a specific date)\n",
    "        3. Check-out date (must be a specific date)\n",
    "        \n",
    "        If ANY of these three required pieces of information are missing, you MUST ask the user to provide the missing information before proceeding. Do not make assumptions about any of these three required fields.**\n",
    "        \n",
    "        Once all required information is provided:\n",
    "        - Use the \"book_room\" function to check availability and make reservations\n",
    "        - Confirm all details with the user including dates, room type, and number of guests\n",
    "        \n",
    "        Today's date is {current_date}.\n",
    "        - Always calculate dates relative to today\n",
    "        - Use tools for all reservations and date calculations\n",
    "        - Confirm dates with users using MM/DD/YYYY format\n",
    "        \n",
    "        For general inquiries:\n",
    "        - Answer questions about amenities, services, policies, and local attractions\n",
    "        - If you don't have specific information, politely say so and offer to connect the guest with hotel staff\n",
    "        \n",
    "        Always be polite, professional, and helpful. If you need more information to assist a guest, ask clarifying questions.\"\"\"),\n",
    "        MessagesPlaceholder(\"chat_history\"),\n",
    "        (\"human\", \"{input}\"),\n",
    "        MessagesPlaceholder(\"agent_scratchpad\"),\n",
    "    ])\n",
    "    return prompt"
   ]
  },
  {
   "cell_type": "code",
   "execution_count": 29,
   "id": "e00bc2ef-3b68-4389-868c-8aa5304e28ef",
   "metadata": {},
   "outputs": [],
   "source": [
    "def agent_creation(tool_llm, tools, prompt):\n",
    "    agent = create_tool_calling_agent(tool_llm, tools, prompt)\n",
    "    # i've intentionally set verbose=True so that i can get to know when tool calling has happened.\n",
    "    # set it to False if you just want the final response from LLM.\n",
    "    agent_executor = AgentExecutor(agent=agent, tools=tools, verbose=True)\n",
    "    return agent, agent_executor"
   ]
  },
  {
   "cell_type": "code",
   "execution_count": 30,
   "id": "1463f00f-59a5-4374-8657-9d767fb4444f",
   "metadata": {},
   "outputs": [],
   "source": [
    "def chat():\n",
    "    while True:\n",
    "        user_input = input(\"User: \")\n",
    "    \n",
    "        if user_input==\"bye\":\n",
    "            print(\"Alright, bye!\")\n",
    "            break\n",
    "        \n",
    "        # here i'm invoking agent along with all the previous conversations \n",
    "        # which has happened between the llm and user to make it more context aware.\n",
    "        response = agent_executor.invoke({\n",
    "            \"input\": user_input,\n",
    "            \"chat_history\": chat_history\n",
    "        })\n",
    "        \n",
    "        # print(f\"chat history: {chat_history}\") # to verify that chat history is being stored or not.\n",
    "        \n",
    "        if not isinstance(response, dict) or \"interrupted\" not in response:\n",
    "            # updating the chat history if the tool calling was not interrupted\n",
    "            chat_history.append(HumanMessage(content=user_input))\n",
    "            chat_history.append(AIMessage(content=response[\"output\"]))\n",
    "        \n",
    "        print(f\"Assistant: {response[\"output\"]}\")"
   ]
  },
  {
   "cell_type": "code",
   "execution_count": 31,
   "id": "ab0c1a79-4b35-44a2-ad49-074485609a5f",
   "metadata": {},
   "outputs": [
    {
     "name": "stdout",
     "output_type": "stream",
     "text": [
      "Type 'bye' to end the conversation.\n"
     ]
    },
    {
     "name": "stdin",
     "output_type": "stream",
     "text": [
      "User:  hi\n"
     ]
    },
    {
     "name": "stdout",
     "output_type": "stream",
     "text": [
      "\n",
      "\n",
      "\u001b[1m> Entering new AgentExecutor chain...\u001b[0m\n",
      "\u001b[32;1m\u001b[1;3mHello! How can I assist you today?\u001b[0m\n",
      "\n",
      "\u001b[1m> Finished chain.\u001b[0m\n",
      "Assistant: Hello! How can I assist you today?\n"
     ]
    },
    {
     "name": "stdin",
     "output_type": "stream",
     "text": [
      "User:  Tell me more about the lalit\n"
     ]
    },
    {
     "name": "stdout",
     "output_type": "stream",
     "text": [
      "\n",
      "\n",
      "\u001b[1m> Entering new AgentExecutor chain...\u001b[0m\n",
      "\u001b[32;1m\u001b[1;3mThe Lalit Hotel offers a range of amenities and services, including comfortable rooms, a fitness center, a spa, and several dining options. We also have a concierge service that can help with local attractions and activities. Would you like to know more about any specific aspect?\u001b[0m\n",
      "\n",
      "\u001b[1m> Finished chain.\u001b[0m\n",
      "Assistant: The Lalit Hotel offers a range of amenities and services, including comfortable rooms, a fitness center, a spa, and several dining options. We also have a concierge service that can help with local attractions and activities. Would you like to know more about any specific aspect?\n"
     ]
    },
    {
     "name": "stdin",
     "output_type": "stream",
     "text": [
      "User:  What rooms are available?\n"
     ]
    },
    {
     "name": "stdout",
     "output_type": "stream",
     "text": [
      "\n",
      "\n",
      "\u001b[1m> Entering new AgentExecutor chain...\u001b[0m\n",
      "\u001b[32;1m\u001b[1;3mWe have three types of rooms: classic (for a single person), deluxe (for 2 people), and mega (for 3+ people). Which type would you prefer?\u001b[0m\n",
      "\n",
      "\u001b[1m> Finished chain.\u001b[0m\n",
      "Assistant: We have three types of rooms: classic (for a single person), deluxe (for 2 people), and mega (for 3+ people). Which type would you prefer?\n"
     ]
    },
    {
     "name": "stdin",
     "output_type": "stream",
     "text": [
      "User:  Can you help me in booking a room?\n"
     ]
    },
    {
     "name": "stdout",
     "output_type": "stream",
     "text": [
      "\n",
      "\n",
      "\u001b[1m> Entering new AgentExecutor chain...\u001b[0m\n",
      "\u001b[32;1m\u001b[1;3mOf course! I'll need some details to proceed. What is your check-in date?\u001b[0m\n",
      "\n",
      "\u001b[1m> Finished chain.\u001b[0m\n",
      "Assistant: Of course! I'll need some details to proceed. What is your check-in date?\n"
     ]
    },
    {
     "name": "stdin",
     "output_type": "stream",
     "text": [
      "User:  9 march\n"
     ]
    },
    {
     "name": "stdout",
     "output_type": "stream",
     "text": [
      "\n",
      "\n",
      "\u001b[1m> Entering new AgentExecutor chain...\u001b[0m\n",
      "\u001b[32;1m\u001b[1;3mAnd what is your check-out date?\u001b[0m\n",
      "\n",
      "\u001b[1m> Finished chain.\u001b[0m\n",
      "Assistant: And what is your check-out date?\n"
     ]
    },
    {
     "name": "stdin",
     "output_type": "stream",
     "text": [
      "User:  15 march\n"
     ]
    },
    {
     "name": "stdout",
     "output_type": "stream",
     "text": [
      "\n",
      "\n",
      "\u001b[1m> Entering new AgentExecutor chain...\u001b[0m\n",
      "\u001b[32;1m\u001b[1;3mWhat type of room would you like to book?\u001b[0m\n",
      "\n",
      "\u001b[1m> Finished chain.\u001b[0m\n",
      "Assistant: What type of room would you like to book?\n"
     ]
    },
    {
     "name": "stdin",
     "output_type": "stream",
     "text": [
      "User:  deluxe\n"
     ]
    },
    {
     "name": "stdout",
     "output_type": "stream",
     "text": [
      "\n",
      "\n",
      "\u001b[1m> Entering new AgentExecutor chain...\u001b[0m\n",
      "\u001b[32;1m\u001b[1;3m\n",
      "Invoking: `book_room` with `{'check_in_date': '03/09', 'check_out_date': '03/15', 'room_type': 'deluxe'}`\n",
      "\n",
      "\n",
      "\u001b[32;1m\u001b[1;3mYour deluxe room with room number 37 has been successfully booked for March 9th to March 15th. Is there anything else I can assist you with?\u001b[0m\n",
      "\n",
      "\u001b[1m> Finished chain.\u001b[0m\n",
      "Assistant: Your deluxe room with room number 37 has been successfully booked for March 9th to March 15th. Is there anything else I can assist you with?\n"
     ]
    },
    {
     "name": "stdin",
     "output_type": "stream",
     "text": [
      "User:  bye\n"
     ]
    },
    {
     "name": "stdout",
     "output_type": "stream",
     "text": [
      "Alright, bye!\n"
     ]
    }
   ],
   "source": [
    "tool_llm, tools = integration_with_tool()\n",
    "chat_history = []\n",
    "prompt = system_prompt()\n",
    "agent, agent_executor = agent_creation(tool_llm, tools, prompt)\n",
    "print(\"Type 'bye' to end the conversation.\")\n",
    "chat()"
   ]
  }
 ],
 "metadata": {
  "kernelspec": {
   "display_name": "Python 3 (ipykernel)",
   "language": "python",
   "name": "python3"
  },
  "language_info": {
   "codemirror_mode": {
    "name": "ipython",
    "version": 3
   },
   "file_extension": ".py",
   "mimetype": "text/x-python",
   "name": "python",
   "nbconvert_exporter": "python",
   "pygments_lexer": "ipython3",
   "version": "3.12.9"
  }
 },
 "nbformat": 4,
 "nbformat_minor": 5
}
